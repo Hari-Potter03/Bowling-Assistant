{
 "cells": [
  {
   "cell_type": "markdown",
   "id": "41c63b19",
   "metadata": {
    "vscode": {
     "languageId": "plaintext"
    }
   },
   "source": [
    "# Place to Test and Develop Scripts"
   ]
  },
  {
   "cell_type": "code",
   "execution_count": 5,
   "id": "b2b10de8",
   "metadata": {},
   "outputs": [],
   "source": [
    "import time, io, re, os\n",
    "from urllib.parse import urljoin, urlparse\n",
    "import requests\n",
    "import pandas as pd\n",
    "from bs4 import BeautifulSoup"
   ]
  },
  {
   "cell_type": "markdown",
   "id": "b5594edb",
   "metadata": {},
   "source": [
    "## Data Collection"
   ]
  },
  {
   "cell_type": "code",
   "execution_count": 6,
   "id": "55e6cb09",
   "metadata": {},
   "outputs": [
    {
     "name": "stdout",
     "output_type": "stream",
     "text": [
      "                   Ball  Brand Release Date  \\\n",
      "0  RST Hyperdrive Pearl    NaN     Sep 2025   \n",
      "1          Primal Ghost    NaN     Sep 2025   \n",
      "2               Lock-On    NaN     Aug 2025   \n",
      "3  Hyped Super Pearl II    NaN     Aug 2025   \n",
      "4                Combat    NaN     Aug 2025   \n",
      "\n",
      "                                         Coverstock  \\\n",
      "0                          U-R1 PearlPearl Reactive   \n",
      "1  Coercion HFS (High Friction Solid)Solid Reactive   \n",
      "2                            RX PearlPearl Reactive   \n",
      "3                           VTC PearlPearl Reactive   \n",
      "4         HK22C - Alpha Premier PearlPearl Reactive   \n",
      "\n",
      "                                 Factory Finish                  Core     RG  \\\n",
      "0                                    Power Edge  RST + A.I.Asymmetric  2.510   \n",
      "1                                      3000 LSS   Impulse V2Symmetric  2.550   \n",
      "2                                    Power Edge       RAD-XAsymmetric  2.480   \n",
      "3                                 1500 Polished        HypedSymmetric  2.520   \n",
      "4  500/1000/1500 Siaair, Crown Factory Compound     RampartAsymmetric  2.502   \n",
      "\n",
      "    Diff  MB Diff  US/Overseas Release  Discontinued?  \n",
      "0  0.055    0.016                  NaN            NaN  \n",
      "1  0.050      NaN                  NaN            NaN  \n",
      "2  0.054    0.018                  NaN            NaN  \n",
      "3  0.036      NaN                  NaN            NaN  \n",
      "4  0.051    0.019                  NaN            NaN  \n"
     ]
    },
    {
     "name": "stderr",
     "output_type": "stream",
     "text": [
      "/var/folders/l1/dkst_h7x00j34b88tcln8bw80000gn/T/ipykernel_38444/1618715689.py:11: FutureWarning: Passing literal html to 'read_html' is deprecated and will be removed in a future version. To read from a literal string, wrap it in a 'StringIO' object.\n",
      "  df = pd.read_html(str(tables[0]))[0]  # convert first table into DataFrame\n"
     ]
    }
   ],
   "source": [
    "url = \"https://www.bowwwl.com/bowling-ball-database\"\n",
    "\n",
    "# Fetch page\n",
    "response = requests.get(url)\n",
    "if response.status_code == 200:\n",
    "    soup = BeautifulSoup(response.text, \"html.parser\")\n",
    "    \n",
    "    # Example: Extract table rows (depends on how the site structures data)\n",
    "    tables = soup.find_all(\"table\")\n",
    "    if tables:\n",
    "        df = pd.read_html(str(tables[0]))[0]  # convert first table into DataFrame\n",
    "        print(df.head())\n",
    "    else:\n",
    "        print(\"No tables found.\")\n",
    "else:\n",
    "    print(f\"Request failed with status {response.status_code}\")\n"
   ]
  },
  {
   "cell_type": "code",
   "execution_count": 8,
   "id": "8cdd00c3",
   "metadata": {},
   "outputs": [],
   "source": [
    "BASE = \"https://www.bowwwl.com\"\n",
    "URL  = f\"{BASE}/bowling-ball-database\"\n",
    "\n",
    "HEADERS = {\"User-Agent\": \"Mozilla/5.0 (Mac) Safari/605.1.15 (learning project)\"}"
   ]
  },
  {
   "cell_type": "code",
   "execution_count": 9,
   "id": "688ca9f5",
   "metadata": {},
   "outputs": [],
   "source": [
    "def get_soup(url: str) -> BeautifulSoup:\n",
    "    r = requests.get(url, headers=HEADERS, timeout=30)\n",
    "    r.raise_for_status()\n",
    "    return BeautifulSoup(r.text, \"html.parser\")\n",
    "\n",
    "soup = get_soup(URL)\n"
   ]
  },
  {
   "cell_type": "code",
   "execution_count": 12,
   "id": "8e3e0fe6",
   "metadata": {},
   "outputs": [
    {
     "name": "stdout",
     "output_type": "stream",
     "text": [
      "['Ball', 'Brand', 'Release Date', 'Coverstock', 'Factory Finish', 'Core', 'RG', 'Diff', 'MB Diff', 'US/Overseas Release', 'Discontinued?']\n"
     ]
    }
   ],
   "source": [
    "def get_main_table(soup: BeautifulSoup):\n",
    "    tables = soup.find_all(\"table\")\n",
    "    return tables[0] if tables else None  # adjust if there are multiple\n",
    "\n",
    "tbl = get_main_table(soup)\n",
    "headers = [th.get_text(strip=True) for th in tbl.select(\"thead th\")]\n",
    "print(headers)"
   ]
  },
  {
   "cell_type": "code",
   "execution_count": 13,
   "id": "a8eda06c",
   "metadata": {},
   "outputs": [
    {
     "data": {
      "text/html": [
       "<div>\n",
       "<style scoped>\n",
       "    .dataframe tbody tr th:only-of-type {\n",
       "        vertical-align: middle;\n",
       "    }\n",
       "\n",
       "    .dataframe tbody tr th {\n",
       "        vertical-align: top;\n",
       "    }\n",
       "\n",
       "    .dataframe thead th {\n",
       "        text-align: right;\n",
       "    }\n",
       "</style>\n",
       "<table border=\"1\" class=\"dataframe\">\n",
       "  <thead>\n",
       "    <tr style=\"text-align: right;\">\n",
       "      <th></th>\n",
       "      <th>Ball</th>\n",
       "      <th>detail_url</th>\n",
       "      <th>image_url</th>\n",
       "      <th>Brand</th>\n",
       "      <th>Release Date</th>\n",
       "      <th>Coverstock</th>\n",
       "      <th>Factory Finish</th>\n",
       "      <th>Core</th>\n",
       "      <th>RG</th>\n",
       "      <th>Diff</th>\n",
       "      <th>MB Diff</th>\n",
       "      <th>US/Overseas Release</th>\n",
       "      <th>Discontinued?</th>\n",
       "    </tr>\n",
       "  </thead>\n",
       "  <tbody>\n",
       "    <tr>\n",
       "      <th>0</th>\n",
       "      <td>RST Hyperdrive Pearl</td>\n",
       "      <td>https://www.bowwwl.com/bowling-ball-database/r...</td>\n",
       "      <td>https://www.bowwwl.com/sites/default/files/sty...</td>\n",
       "      <td></td>\n",
       "      <td>Sep 2025</td>\n",
       "      <td>U-R1 Pearl Pearl Reactive</td>\n",
       "      <td>Power Edge</td>\n",
       "      <td>RST + A.I. Asymmetric</td>\n",
       "      <td>2.510</td>\n",
       "      <td>0.055</td>\n",
       "      <td>0.016</td>\n",
       "      <td></td>\n",
       "      <td></td>\n",
       "    </tr>\n",
       "    <tr>\n",
       "      <th>1</th>\n",
       "      <td>Primal Ghost</td>\n",
       "      <td>https://www.bowwwl.com/bowling-ball-database/m...</td>\n",
       "      <td>https://www.bowwwl.com/sites/default/files/sty...</td>\n",
       "      <td></td>\n",
       "      <td>Sep 2025</td>\n",
       "      <td>Coercion HFS (High Friction Solid) Solid Reactive</td>\n",
       "      <td>3000 LSS</td>\n",
       "      <td>Impulse V2 Symmetric</td>\n",
       "      <td>2.550</td>\n",
       "      <td>0.050</td>\n",
       "      <td></td>\n",
       "      <td></td>\n",
       "      <td></td>\n",
       "    </tr>\n",
       "    <tr>\n",
       "      <th>2</th>\n",
       "      <td>Lock-On</td>\n",
       "      <td>https://www.bowwwl.com/bowling-ball-database/s...</td>\n",
       "      <td>https://www.bowwwl.com/sites/default/files/sty...</td>\n",
       "      <td></td>\n",
       "      <td>Aug 2025</td>\n",
       "      <td>RX Pearl Pearl Reactive</td>\n",
       "      <td>Power Edge</td>\n",
       "      <td>RAD-X Asymmetric</td>\n",
       "      <td>2.480</td>\n",
       "      <td>0.054</td>\n",
       "      <td>0.018</td>\n",
       "      <td></td>\n",
       "      <td></td>\n",
       "    </tr>\n",
       "    <tr>\n",
       "      <th>3</th>\n",
       "      <td>Hyped Super Pearl II</td>\n",
       "      <td>https://www.bowwwl.com/bowling-ball-database/r...</td>\n",
       "      <td>https://www.bowwwl.com/sites/default/files/sty...</td>\n",
       "      <td></td>\n",
       "      <td>Aug 2025</td>\n",
       "      <td>VTC Pearl Pearl Reactive</td>\n",
       "      <td>1500 Polished</td>\n",
       "      <td>Hyped Symmetric</td>\n",
       "      <td>2.520</td>\n",
       "      <td>0.036</td>\n",
       "      <td></td>\n",
       "      <td></td>\n",
       "      <td></td>\n",
       "    </tr>\n",
       "    <tr>\n",
       "      <th>4</th>\n",
       "      <td>Combat</td>\n",
       "      <td>https://www.bowwwl.com/bowling-ball-database/b...</td>\n",
       "      <td>https://www.bowwwl.com/sites/default/files/sty...</td>\n",
       "      <td></td>\n",
       "      <td>Aug 2025</td>\n",
       "      <td>HK22C - Alpha Premier Pearl Pearl Reactive</td>\n",
       "      <td>500/1000/1500 Siaair, Crown Factory Compound</td>\n",
       "      <td>Rampart Asymmetric</td>\n",
       "      <td>2.502</td>\n",
       "      <td>0.051</td>\n",
       "      <td>0.019</td>\n",
       "      <td></td>\n",
       "      <td></td>\n",
       "    </tr>\n",
       "  </tbody>\n",
       "</table>\n",
       "</div>"
      ],
      "text/plain": [
       "                   Ball                                         detail_url  \\\n",
       "0  RST Hyperdrive Pearl  https://www.bowwwl.com/bowling-ball-database/r...   \n",
       "1          Primal Ghost  https://www.bowwwl.com/bowling-ball-database/m...   \n",
       "2               Lock-On  https://www.bowwwl.com/bowling-ball-database/s...   \n",
       "3  Hyped Super Pearl II  https://www.bowwwl.com/bowling-ball-database/r...   \n",
       "4                Combat  https://www.bowwwl.com/bowling-ball-database/b...   \n",
       "\n",
       "                                           image_url Brand Release Date  \\\n",
       "0  https://www.bowwwl.com/sites/default/files/sty...           Sep 2025   \n",
       "1  https://www.bowwwl.com/sites/default/files/sty...           Sep 2025   \n",
       "2  https://www.bowwwl.com/sites/default/files/sty...           Aug 2025   \n",
       "3  https://www.bowwwl.com/sites/default/files/sty...           Aug 2025   \n",
       "4  https://www.bowwwl.com/sites/default/files/sty...           Aug 2025   \n",
       "\n",
       "                                          Coverstock  \\\n",
       "0                          U-R1 Pearl Pearl Reactive   \n",
       "1  Coercion HFS (High Friction Solid) Solid Reactive   \n",
       "2                            RX Pearl Pearl Reactive   \n",
       "3                           VTC Pearl Pearl Reactive   \n",
       "4         HK22C - Alpha Premier Pearl Pearl Reactive   \n",
       "\n",
       "                                 Factory Finish                   Core     RG  \\\n",
       "0                                    Power Edge  RST + A.I. Asymmetric  2.510   \n",
       "1                                      3000 LSS   Impulse V2 Symmetric  2.550   \n",
       "2                                    Power Edge       RAD-X Asymmetric  2.480   \n",
       "3                                 1500 Polished        Hyped Symmetric  2.520   \n",
       "4  500/1000/1500 Siaair, Crown Factory Compound     Rampart Asymmetric  2.502   \n",
       "\n",
       "    Diff MB Diff US/Overseas Release Discontinued?  \n",
       "0  0.055   0.016                                    \n",
       "1  0.050                                            \n",
       "2  0.054   0.018                                    \n",
       "3  0.036                                            \n",
       "4  0.051   0.019                                    "
      ]
     },
     "execution_count": 13,
     "metadata": {},
     "output_type": "execute_result"
    }
   ],
   "source": [
    "def parse_table(tbl) -> pd.DataFrame:\n",
    "    headers = [th.get_text(strip=True) for th in tbl.select(\"thead th\")]\n",
    "    rows = []\n",
    "    for tr in tbl.select(\"tbody tr\"):\n",
    "        tds = tr.find_all(\"td\")\n",
    "        if not tds or len(tds) != len(headers):  # defensive\n",
    "            continue\n",
    "\n",
    "        row = {}\n",
    "        for col_name, td in zip(headers, tds):\n",
    "            # base text\n",
    "            row[col_name] = td.get_text(\" \", strip=True)\n",
    "\n",
    "            # enrich Ball cell with image + detail url\n",
    "            if col_name.lower() == \"ball\":\n",
    "                a = td.find(\"a\")\n",
    "                img = td.find(\"img\")\n",
    "\n",
    "                if a and a.get(\"href\"):\n",
    "                    row[\"detail_url\"] = urljoin(BASE, a[\"href\"])\n",
    "                if a:\n",
    "                    row[\"Ball\"] = a.get_text(strip=True) or row[\"Ball\"]\n",
    "\n",
    "                if img:\n",
    "                    src = img.get(\"src\") or img.get(\"data-src\")\n",
    "                    if src:\n",
    "                        row[\"image_url\"] = urljoin(BASE, src)\n",
    "\n",
    "        rows.append(row)\n",
    "\n",
    "    return pd.DataFrame(rows)\n",
    "\n",
    "df_page = parse_table(tbl)\n",
    "df_page.head()\n"
   ]
  },
  {
   "cell_type": "code",
   "execution_count": 15,
   "id": "734c5fdb",
   "metadata": {},
   "outputs": [
    {
     "data": {
      "text/plain": [
       "(101,\n",
       " ['https://www.bowwwl.com/bowling-ball-database',\n",
       "  'https://www.bowwwl.com/bowling-ball-database/900-global/cove',\n",
       "  'https://www.bowwwl.com/bowling-ball-database/900-global/duty-majesty',\n",
       "  'https://www.bowwwl.com/bowling-ball-database/900-global/ember',\n",
       "  'https://www.bowwwl.com/bowling-ball-database/900-global/honey-badger-blameless'])"
      ]
     },
     "execution_count": 15,
     "metadata": {},
     "output_type": "execute_result"
    }
   ],
   "source": [
    "def discover_pages(soup: BeautifulSoup) -> list[str]:\n",
    "    pages = {URL}  # include first page\n",
    "    for a in soup.select(\"a[href]\"):\n",
    "        href = a[\"href\"]\n",
    "        if \"bowling-ball-database\" in href:  # stays in the listing\n",
    "            pages.add(urljoin(BASE, href))\n",
    "    return sorted(pages)\n",
    "\n",
    "candidate_pages = discover_pages(soup)\n",
    "len(candidate_pages), candidate_pages[:5]\n"
   ]
  },
  {
   "cell_type": "code",
   "execution_count": null,
   "id": "9d2c380a",
   "metadata": {},
   "outputs": [],
   "source": []
  }
 ],
 "metadata": {
  "kernelspec": {
   "display_name": "DS",
   "language": "python",
   "name": "python3"
  },
  "language_info": {
   "codemirror_mode": {
    "name": "ipython",
    "version": 3
   },
   "file_extension": ".py",
   "mimetype": "text/x-python",
   "name": "python",
   "nbconvert_exporter": "python",
   "pygments_lexer": "ipython3",
   "version": "3.13.5"
  }
 },
 "nbformat": 4,
 "nbformat_minor": 5
}
