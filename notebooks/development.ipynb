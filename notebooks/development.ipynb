{
 "cells": [
  {
   "cell_type": "markdown",
   "id": "41c63b19",
   "metadata": {
    "vscode": {
     "languageId": "plaintext"
    }
   },
   "source": [
    "# Place to Test and Develop Scripts"
   ]
  },
  {
   "cell_type": "code",
   "execution_count": 1,
   "id": "b2b10de8",
   "metadata": {},
   "outputs": [],
   "source": [
    "import time, io, re, os\n",
    "from urllib.parse import urljoin, urlparse\n",
    "import requests\n",
    "import pandas as pd\n",
    "from bs4 import BeautifulSoup"
   ]
  },
  {
   "cell_type": "markdown",
   "id": "b5594edb",
   "metadata": {},
   "source": [
    "## Data Collection"
   ]
  },
  {
   "cell_type": "code",
   "execution_count": 8,
   "id": "8cdd00c3",
   "metadata": {},
   "outputs": [],
   "source": [
    "BASE = \"https://www.bowwwl.com\"\n",
    "URL  = f\"{BASE}/bowling-ball-database\"\n",
    "\n",
    "HEADERS = {\"User-Agent\": \"Mozilla/5.0 (Mac) Safari/605.1.15 (learning project)\"}"
   ]
  },
  {
   "cell_type": "code",
   "execution_count": null,
   "id": "9d2c380a",
   "metadata": {},
   "outputs": [],
   "source": []
  }
 ],
 "metadata": {
  "kernelspec": {
   "display_name": "DS",
   "language": "python",
   "name": "python3"
  },
  "language_info": {
   "codemirror_mode": {
    "name": "ipython",
    "version": 3
   },
   "file_extension": ".py",
   "mimetype": "text/x-python",
   "name": "python",
   "nbconvert_exporter": "python",
   "pygments_lexer": "ipython3",
   "version": "3.13.5"
  }
 },
 "nbformat": 4,
 "nbformat_minor": 5
}
